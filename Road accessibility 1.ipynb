{
 "metadata": {
  "name": "",
  "signature": "sha256:22182e9b8c064ca1504e2b4b985886e73762c9e4e1eb16c06476b10b4877ead6"
 },
 "nbformat": 3,
 "nbformat_minor": 0,
 "worksheets": [
  {
   "cells": [
    {
     "cell_type": "heading",
     "level": 1,
     "metadata": {},
     "source": [
      "Road accessibility 1"
     ]
    },
    {
     "cell_type": "code",
     "collapsed": false,
     "input": [
      "import math\n",
      "import numpy\n",
      "import random\n",
      "import matplotlib.pyplot as plt\n",
      "import numpy as np\n",
      "%matplotlib inline"
     ],
     "language": "python",
     "metadata": {},
     "outputs": [],
     "prompt_number": 328
    },
    {
     "cell_type": "markdown",
     "metadata": {},
     "source": [
      "Generate a random road network.\n",
      "\n",
      "TODO: load real data from OSM."
     ]
    },
    {
     "cell_type": "code",
     "collapsed": false,
     "input": [
      "m = 20\n",
      "random.seed(1)\n",
      "roads = []\n",
      "intersection_count = {}\n",
      "x0 = m / 2\n",
      "y0 = m / 2\n",
      "x1 = x0 + random.randint(-m / 10, m / 10)\n",
      "y1 = y0 + random.randint(-m / 10, m / 10)\n",
      "roads.append(((x0, y0), (x1, y1)))\n",
      "intersection_count[roads[0][0]] = 1\n",
      "intersection_count[roads[0][1]] = 1\n",
      "while len(roads) < 30:\n",
      "    point = random.choice(random.choice(roads))\n",
      "    if 4 < intersection_count[point]:\n",
      "        continue\n",
      "    x0, y0 = point\n",
      "    x1 = x0 + random.randint(-m / 10, m / 10)\n",
      "    y1 = y0 + random.randint(-m / 10, m / 10)\n",
      "    if x0 == x1 and y0 == y1:\n",
      "        continue\n",
      "    roads.append((point, (x1, y1)))\n",
      "    intersection_count[point] += 1\n",
      "    intersection_count[(x1, y1)] = 1"
     ],
     "language": "python",
     "metadata": {},
     "outputs": [],
     "prompt_number": 329
    },
    {
     "cell_type": "markdown",
     "metadata": {},
     "source": [
      "Function to compute accessibility of a point. This is a placeholder and uses a very simple method (measures distance to nearest intersection):"
     ]
    },
    {
     "cell_type": "code",
     "collapsed": false,
     "input": [
      "def get_distance_to_road(roads, x, y):\n",
      "    distance = 10000000\n",
      "    for road in roads:\n",
      "        for point in road:\n",
      "            sx, sy = point\n",
      "            d = (sx - x) ** 2 + (sy - y) ** 2\n",
      "            distance = min(d, distance)\n",
      "    return math.sqrt(distance)"
     ],
     "language": "python",
     "metadata": {},
     "outputs": [],
     "prompt_number": 330
    },
    {
     "cell_type": "markdown",
     "metadata": {},
     "source": [
      "Compute travel accessibility across a grid of locations:"
     ]
    },
    {
     "cell_type": "code",
     "collapsed": false,
     "input": [
      "travel_time = np.zeros((m + 1, m + 1))\n",
      "for x in range(0, travel_time.shape[0]):\n",
      "    for y in range(0, travel_time.shape[1]):\n",
      "        distance = get_distance_to_road(roads, x, y)\n",
      "        travel_time[(y, x)] = distance"
     ],
     "language": "python",
     "metadata": {},
     "outputs": [],
     "prompt_number": 331
    },
    {
     "cell_type": "markdown",
     "metadata": {},
     "source": [
      "Plot the travel accessibility heatmap and the road network on top:"
     ]
    },
    {
     "cell_type": "code",
     "collapsed": false,
     "input": [
      "fig, ax = plt.subplots(figsize=(10, 10))\n",
      "ax.imshow(travel_time, interpolation=\"nearest\")\n",
      "for road in roads:\n",
      "    x, y = zip(*road)\n",
      "    ax.plot(x, y, 'k.-')\n",
      "ax.grid()\n",
      "ax.axis([0, m, 0, m])"
     ],
     "language": "python",
     "metadata": {},
     "outputs": [
      {
       "metadata": {},
       "output_type": "pyout",
       "prompt_number": 332,
       "text": [
        "[0, 20, 0, 20]"
       ]
      },
      {
       "metadata": {},
       "output_type": "display_data",
       "png": "[encoded data removed]",
       "text": [
        "<matplotlib.figure.Figure at 0x7fde6de54e10>"
       ]
      }
     ],
     "prompt_number": 332
    }
   ],
   "metadata": {}
  }
 ]
}